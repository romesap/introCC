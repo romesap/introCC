{
 "cells": [
  {
   "cell_type": "code",
   "execution_count": 6,
   "id": "d514ceff",
   "metadata": {},
   "outputs": [
    {
     "name": "stdout",
     "output_type": "stream",
     "text": [
      "escriba una oracion: la casa de palas\n",
      "['l', 'a', ' ', 'c', 'a', 's', 'a', ' ', 'd', 'e', ' ', 'p', 'a', 'l', 'a', 's']\n",
      "6 7\n"
     ]
    }
   ],
   "source": [
    "n=list(input(\"escriba una oracion: \"))\n",
    "print(n)\n",
    "vocales = {\"a\",\"e\",\"i\",\"o\",\"u\"}\n",
    "numero_vocales = 0\n",
    "numero_consonantes = 0\n",
    "\n",
    "for i in n:\n",
    "    if i in vocales:\n",
    "        numero_vocales += 1\n",
    "    elif i == \" \":\n",
    "        numero_consonantes += 0\n",
    "    else:\n",
    "        numero_consonantes += 1\n",
    "print(numero_vocales, numero_consonantes)\n",
    "    \n",
    "    "
   ]
  }
 ],
 "metadata": {
  "kernelspec": {
   "display_name": "Python 3 (ipykernel)",
   "language": "python",
   "name": "python3"
  },
  "language_info": {
   "codemirror_mode": {
    "name": "ipython",
    "version": 3
   },
   "file_extension": ".py",
   "mimetype": "text/x-python",
   "name": "python",
   "nbconvert_exporter": "python",
   "pygments_lexer": "ipython3",
   "version": "3.9.12"
  }
 },
 "nbformat": 4,
 "nbformat_minor": 5
}

{
 "cells": [
  {
   "cell_type": "code",
   "execution_count": 7,
   "id": "dd8fb203",
   "metadata": {},
   "outputs": [
    {
     "name": "stdout",
     "output_type": "stream",
     "text": [
      "escriba una oracion: perro hpta\n",
      "['p', 'e', 'r', 'r', 'o', ' ', 'h', 'p', 't', 'a']\n",
      "3 6\n"
     ]
    }
   ],
   "source": [
    "n=list(input(\"escriba una oracion: \"))\n",
    "print(n)\n",
    "vocales = {\"a\",\"e\",\"i\",\"o\",\"u\"}\n",
    "numero_vocales = 0\n",
    "numero_consonantes = 0\n",
    "\n",
    "for i in n:\n",
    "    if i in vocales:\n",
    "        numero_vocales += 1\n",
    "    elif i == \" \":\n",
    "        pass\n",
    "        #numero_consonantes += 0\n",
    "    else:\n",
    "        numero_consonantes += 1\n",
    "print(numero_vocales, numero_consonantes)\n",
    "    \n",
    "    "
   ]
  }
 ],
 "metadata": {
  "kernelspec": {
   "display_name": "Python 3 (ipykernel)",
   "language": "python",
   "name": "python3"
  },
  "language_info": {
   "codemirror_mode": {
    "name": "ipython",
    "version": 3
   },
   "file_extension": ".py",
   "mimetype": "text/x-python",
   "name": "python",
   "nbconvert_exporter": "python",
   "pygments_lexer": "ipython3",
   "version": "3.9.12"
  }
 },
 "nbformat": 4,
 "nbformat_minor": 5
}

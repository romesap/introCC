{
 "cells": [
  {
   "cell_type": "code",
   "execution_count": 49,
   "id": "d504bab1",
   "metadata": {},
   "outputs": [
    {
     "name": "stdout",
     "output_type": "stream",
     "text": [
      "Cuántas palabras quiere agregar a la lista: 6\n",
      "Escriba la palabra que quiere agregar a la lista: gatico\n",
      "Escriba la palabra que quiere agregar a la lista: perrutico\n",
      "Escriba la palabra que quiere agregar a la lista: pepe\n",
      "Escriba la palabra que quiere agregar a la lista: animalitu\n",
      "Escriba la palabra que quiere agregar a la lista: casana\n",
      "Escriba la palabra que quiere agregar a la lista: ululu\n",
      "['gatico', 'perrutico', 'pepe', 'animalitu', 'casana', 'ululu']\n"
     ]
    }
   ],
   "source": [
    "n = int(input(\"Cuántas palabras quiere agregar a la lista: \"))\n",
    "lista = [] #lista inicializada para ser modificada con un loop\n",
    "i = 0 #contador que debe iniciar en cero\n",
    "while i < n:\n",
    "    palabra = input(\"Escriba la palabra que quiere agregar a la lista: \")\n",
    "    lista.append(palabra)\n",
    "    i += 1\n",
    "\n",
    "print(lista) #imprimir la lista ya modificada"
   ]
  },
  {
   "cell_type": "code",
   "execution_count": 50,
   "id": "396f4653",
   "metadata": {},
   "outputs": [
    {
     "name": "stdout",
     "output_type": "stream",
     "text": [
      "gatico\n",
      "perrutico\n",
      "animalitu\n"
     ]
    }
   ],
   "source": [
    "vocales = {\"a\", \"e\", \"i\", \"o\", \"u\"}\n",
    "j = 0\n",
    "\n",
    "while j < n:\n",
    "    letras = set(lista[j]) #separamos cada palabra en una lista con sus letras como elementos\n",
    "    d=letras & vocales\n",
    "    if len(d) >= 2:\n",
    "        print (lista[j])\n",
    "    j += 1\n",
    "\n",
    "#escanee a ver si hay vocales\n",
    "\n",
    "    #$comparaciones\n",
    "    \n"
   ]
  }
 ],
 "metadata": {
  "kernelspec": {
   "display_name": "Python 3 (ipykernel)",
   "language": "python",
   "name": "python3"
  },
  "language_info": {
   "codemirror_mode": {
    "name": "ipython",
    "version": 3
   },
   "file_extension": ".py",
   "mimetype": "text/x-python",
   "name": "python",
   "nbconvert_exporter": "python",
   "pygments_lexer": "ipython3",
   "version": "3.9.12"
  }
 },
 "nbformat": 4,
 "nbformat_minor": 5
}

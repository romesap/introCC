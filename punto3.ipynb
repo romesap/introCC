{
 "cells": [
  {
   "cell_type": "code",
   "execution_count": 22,
   "id": "35f851fd",
   "metadata": {},
   "outputs": [
    {
     "name": "stdout",
     "output_type": "stream",
     "text": [
      "cuantos numeros desea agregar: 5\n",
      "por favor agregue los numeros: 23\n",
      "por favor agregue los numeros: 45\n",
      "por favor agregue los numeros: 33\n",
      "por favor agregue los numeros: 13\n",
      "por favor agregue los numeros: 45\n",
      "{33, 45, 23, 13}\n",
      "divisores 3:  {33, 45} {45} {13, 23}\n"
     ]
    }
   ],
   "source": [
    "x = int(input(\"cuantos numeros desea agregar: \"))\n",
    "conjunto=set()\n",
    "i = 0\n",
    "while i < x:\n",
    "    numero = int(input(\"por favor agregue los numeros: \"))\n",
    "    conjunto = conjunto | {numero} #convirtiendo en un conjunto con un elemento numero\n",
    "    i += 1\n",
    "\n",
    "print(conjunto)\n",
    "\n",
    "div_5 = set()\n",
    "div_3 = set()\n",
    "div_none = set()\n",
    "\n",
    "for i in conjunto:\n",
    "    if i%3 == 0 and i%5 == 0:\n",
    "        div_3 = div_3 | {i}\n",
    "        div_5 = div_5 | {i}\n",
    "    \n",
    "    elif i%3 == 0:\n",
    "        div_3 = div_3 | {i}\n",
    "        \n",
    "    elif i%5 == 0:\n",
    "        div_5 = div_5 | {i}\n",
    "    else:\n",
    "        div_none = div_none | {i}\n",
    "        \n",
    "\n",
    "print(\"divisores 3: \",div_3, div_5, div_none)\n",
    "        \n",
    "        \n",
    "        \n",
    "    \n",
    "    \n",
    "    \n"
   ]
  }
 ],
 "metadata": {
  "kernelspec": {
   "display_name": "Python 3 (ipykernel)",
   "language": "python",
   "name": "python3"
  },
  "language_info": {
   "codemirror_mode": {
    "name": "ipython",
    "version": 3
   },
   "file_extension": ".py",
   "mimetype": "text/x-python",
   "name": "python",
   "nbconvert_exporter": "python",
   "pygments_lexer": "ipython3",
   "version": "3.9.12"
  }
 },
 "nbformat": 4,
 "nbformat_minor": 5
}
